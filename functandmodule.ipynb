{
 "cells": [
  {
   "cell_type": "markdown",
   "metadata": {},
   "source": [
    "Function"
   ]
  },
  {
   "cell_type": "code",
   "execution_count": null,
   "metadata": {},
   "outputs": [],
   "source": [
    "#global variable\n",
    "a = 12\n",
    "\n",
    "#dengan parameter\n",
    "def sayHello(userName, age):\n",
    "    print(\"hello,\", userName, age, \"tahun\")\n",
    "\n",
    "#calling function\n",
    "#menggunakan posisi sesuai parameter function\n",
    "sayHello(\"fajar\", 19)\n",
    "#menggunakan nama parameter di function\n",
    "sayHello(userName=\"fajar\", age=29)\n",
    "\n",
    "#return\n",
    "def generateName(first, last):\n",
    "    fullName = first +\" \"+ last\n",
    "\n",
    "    #local variable\n",
    "    a = 14\n",
    "    return fullName\n",
    "print()\n",
    "print(generateName(\"john\", \"cena\"))\n",
    "print()\n",
    "\n",
    "#default, tidak perlu diisi(optional) karena sudah diisi duluan\n",
    "def sayHello(userName, age, location=\"secret\"):\n",
    "    print(\"hello\", userName, age, location)\n",
    "\n",
    "sayHello(\"fajar\", 19)\n",
    "sayHello(\"fajar\", 19, \"jakarta\")\n",
    "\n",
    "print()\n",
    "\n",
    "\n",
    "# Variable-length, parameter tsb bisa menampung value yang dimanis, \n",
    "# bisa menampung banyak data\n",
    "# non keywords *\n",
    "def sum_all(*args):\n",
    "    result = 0\n",
    "    for num in args:\n",
    "        result += num\n",
    "    return result\n",
    "\n",
    "print(sum_all(1,2,3,4,5))\n",
    "print()\n",
    "\n",
    "def sambungKata(*kata):\n",
    "    hasil=\"\"\n",
    "    for k in kata:\n",
    "        hasil += k\n",
    "\n",
    "    return hasil\n",
    "\n",
    "print(sambungKata(\"fajar\", \" \", \"ibrah\"))\n",
    "\n",
    "\n",
    "# keyword **\n",
    "# harus memberi parameter menggunakan key\n",
    "def genProfile(**profile):\n",
    "    for key, value in profile.items():\n",
    "        print(key, \":\", value)\n",
    "\n",
    "genProfile(fullName=\"Fajar Ibrah\", age=15, location=\"bali\")\n",
    "\n",
    "#anonymous function\n",
    "printProfile = lambda userName, age: print(userName, age)\n",
    "\n",
    "printProfile(\"fajar\", 15)\n",
    "\n",
    "\n"
   ]
  },
  {
   "cell_type": "markdown",
   "metadata": {},
   "source": [
    "Module and Packages"
   ]
  },
  {
   "cell_type": "code",
   "execution_count": null,
   "metadata": {},
   "outputs": [],
   "source": [
    "# module adalah sebuah file yang menampung function\n",
    "# package adalah folder yang menyimpan beberapa module\n",
    "# agar function yang ada di dalam module dapat digunakan berkali-kali \n",
    "# tanpa membuat code baru\n",
    "\n",
    "# ada function pada file module1.py di dalam folder package1 yang \n",
    "# digunakan pada file sayHello.py\n",
    "\n",
    "\n"
   ]
  }
 ],
 "metadata": {
  "kernelspec": {
   "display_name": "base",
   "language": "python",
   "name": "python3"
  },
  "language_info": {
   "codemirror_mode": {
    "name": "ipython",
    "version": 3
   },
   "file_extension": ".py",
   "mimetype": "text/x-python",
   "name": "python",
   "nbconvert_exporter": "python",
   "pygments_lexer": "ipython3",
   "version": "3.11.5"
  }
 },
 "nbformat": 4,
 "nbformat_minor": 2
}
