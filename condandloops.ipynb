{
 "cells": [
  {
   "cell_type": "markdown",
   "metadata": {},
   "source": [
    "conditional if"
   ]
  },
  {
   "cell_type": "code",
   "execution_count": 4,
   "metadata": {},
   "outputs": [
    {
     "name": "stdout",
     "output_type": "stream",
     "text": [
      "a lebih besar\n",
      "10\n"
     ]
    }
   ],
   "source": [
    "a  = input(\"input a: \")\n",
    "b  = input(\"input b: \")\n",
    "\n",
    "a = int(a)\n",
    "b = int(b)\n",
    "\n",
    "#a = 30\n",
    "#b = 20\n",
    "\n",
    "if a > b:\n",
    "    print(\"a lebih besar\")\n",
    "    print(a-b)\n",
    "elif a == b:\n",
    "    print(\"a sama dengan b\")\n",
    "    print(a*b)\n",
    "else:\n",
    "    print(\"a lebih kecil\")\n",
    "    print(a+b)\n",
    "\n",
    "#pass digunakan untuk test syntax, template untuk melanjutkan statement terlebih dahulu "
   ]
  },
  {
   "cell_type": "markdown",
   "metadata": {},
   "source": [
    "Nested if"
   ]
  },
  {
   "cell_type": "code",
   "execution_count": 10,
   "metadata": {},
   "outputs": [
    {
     "name": "stdout",
     "output_type": "stream",
     "text": [
      "error\n"
     ]
    }
   ],
   "source": [
    "#if di dalam if (nested)\n",
    "\n",
    "a = 12\n",
    "b = 11\n",
    "\n",
    "'''if a < b:\n",
    "    print(\"a kurang dari b\")\n",
    "\n",
    "    if a==5:\n",
    "        print(\"selamat anda menang\")\n",
    "    else:\n",
    "        print(\"coba lagi\")\n",
    "elif a == b:\n",
    "    print(\"a sama dengan b\")\n",
    "\n",
    "    if a==5:\n",
    "        print(\"selamat anda menang\")\n",
    "    else:\n",
    "        print(\"coba lagi\")\n",
    "else:\n",
    "    print(\"a lebih dari b\")\n",
    "\n",
    "    if a==5:\n",
    "        print(\"selamat anda menang\")\n",
    "    else:\n",
    "        print(\"coba lagi\")\n",
    "'''\n",
    "#bisa pakai AND, OR, NOR (combination)\n",
    "\n",
    "if a <= b and a == b:\n",
    "    print(\"success\")\n",
    "else:\n",
    "    print(\"error\")\n"
   ]
  },
  {
   "cell_type": "markdown",
   "metadata": {},
   "source": [
    "Ternary if"
   ]
  },
  {
   "cell_type": "code",
   "execution_count": 11,
   "metadata": {},
   "outputs": [
    {
     "name": "stdout",
     "output_type": "stream",
     "text": [
      "success\n"
     ]
    }
   ],
   "source": [
    "#hanya bisa 1 line\n",
    "#cuma untuk if...else...\n",
    "\n",
    "a = 10\n",
    "b = 10\n",
    "\n",
    "print(\"success\") if a <= b else print(\"error\")\n",
    "    \n",
    "\n",
    "    "
   ]
  },
  {
   "cell_type": "markdown",
   "metadata": {},
   "source": [
    "While Loops"
   ]
  },
  {
   "cell_type": "code",
   "execution_count": null,
   "metadata": {},
   "outputs": [],
   "source": [
    "#perulangan yang indefinite, akan berulang tergantung dengan selama condition True\n",
    "#perulangan definite, tergantung dengan nilai yang kita tentukan\n",
    "a = input(\"masukan nilai a: \")\n",
    "b = input(\"masukan nilai b: \")\n",
    "\n",
    "a = int(a)\n",
    "b = int(b)\n",
    "\n",
    "while (a <= b):\n",
    "    print(a)\n",
    "    a = a+1\n",
    "\n",
    "    \n",
    "    if a == 9:\n",
    "        break #terminate loops jika kondisi yang ada True\n",
    "\n",
    "\n",
    "\n",
    "i = 0 \n",
    "\n",
    "while i < 10:\n",
    "    if i== 5:\n",
    "        i += 1\n",
    "        continue #menghentikan 1 loop spesifik, lalu tetap melanjutkan loop (skip loop iteration)\n",
    "        \n",
    "    print(i)\n",
    "    i += 1\n"
   ]
  },
  {
   "cell_type": "markdown",
   "metadata": {},
   "source": [
    "While else loops"
   ]
  },
  {
   "cell_type": "code",
   "execution_count": null,
   "metadata": {},
   "outputs": [],
   "source": [
    "a = input(\"masukan nilai a: \")\n",
    "b = input(\"masukan nilai b: \")\n",
    "\n",
    "a = int(a)\n",
    "b = int(b)\n",
    "\n",
    "while (a <= b):\n",
    "    print(a)\n",
    "    a = a+1\n",
    "else:\n",
    "    print(\"a sudah lebih besar dari b\")\n",
    "\n",
    "print(a) #membuktikan bahwa a sudah di tambah 1"
   ]
  },
  {
   "cell_type": "markdown",
   "metadata": {},
   "source": [
    "Nested While"
   ]
  },
  {
   "cell_type": "code",
   "execution_count": null,
   "metadata": {},
   "outputs": [],
   "source": [
    "a = input(\"masukan nilai a: \")\n",
    "b = input(\"masukan nilai b: \")\n",
    "\n",
    "a = int(a)\n",
    "b = int(b)\n",
    "\n",
    "while (a <= b):\n",
    "    print(a)\n",
    "    a = a+1\n",
    "\n",
    "    #akan menyelesaikan nested while terlebih dahulu\n",
    "    c=0\n",
    "    while c < 2:\n",
    "        print(\"nested\", c)\n",
    "        c += 1\n",
    "else:\n",
    "    print(\"a sudah lebih besar dari b\")\n",
    "\n",
    "print(a)\n",
    "print(c)"
   ]
  },
  {
   "cell_type": "markdown",
   "metadata": {},
   "source": [
    "For Loops"
   ]
  },
  {
   "cell_type": "code",
   "execution_count": null,
   "metadata": {},
   "outputs": [],
   "source": [
    "fruits = ['mangga', 'duren', 'jeruk', 'mangga', 'lemon']\n",
    "\n",
    "print(len(fruits))\n",
    "\n",
    "#variable i akan menyimpan tiap value yang ada di dalam list\n",
    "for i in fruits:\n",
    "    print(i)\n",
    "    if i == 'jeruk':\n",
    "        print('jeruk g enak')\n",
    "\n",
    "print(\"\\n\")#kasih enter\n",
    "\n",
    "#ternary\n",
    "[print(i) for i in fruits]\n",
    "print(\"\\n\")#kasih enter\n",
    "\n",
    "\n",
    "#ternary with expression\n",
    "[print(i) for i in fruits if i != 'jeruk']\n",
    "print(\"\\n\")#kasih enter\n",
    "\n",
    "\n",
    "#for menggunakan range\n",
    "for x in range(2, 10):\n",
    "    if x == 5:\n",
    "        continue\n",
    "    print(x)\n",
    "\n",
    "#continue dan break bisa digunakan juga di for\n"
   ]
  },
  {
   "cell_type": "markdown",
   "metadata": {},
   "source": [
    "Latihan loops"
   ]
  },
  {
   "cell_type": "code",
   "execution_count": null,
   "metadata": {},
   "outputs": [],
   "source": [
    "\n",
    "for x in range(10):\n",
    "    print(str(x)*x)\n",
    "\n",
    "for baris in range(1, 10):\n",
    "    #print(x)\n",
    "    for kolom in range(baris):\n",
    "        print(baris, end=\"\") #end untuk menambahkan string kosong\n",
    "    print()#gunanya ganti baris / enter"
   ]
  },
  {
   "cell_type": "code",
   "execution_count": 56,
   "metadata": {},
   "outputs": [
    {
     "name": "stdout",
     "output_type": "stream",
     "text": [
      "password dapat digunakan\n"
     ]
    }
   ],
   "source": [
    "password = input(\"masukkan password: \")\n",
    "\n",
    "if not any(p.islower() for p in password): \n",
    "    print(\"tidak ada huruf lowercase\")\n",
    "elif not any(p.isupper() for p in password): \n",
    "    print(\"tidak ada huruf uppercase\")\n",
    "elif not any(p.isdigit() for p in password):\n",
    "    print(\"tidak ada angka\")\n",
    "elif not any():\n",
    "    pass\n",
    "elif len(password) > 16:\n",
    "    pass\n",
    "elif len(password) < 6:\n",
    "    print(\"karakter password dibawah 6\")\n",
    "else:\n",
    "    print(\"password dapat digunakan\")\n",
    "    "
   ]
  }
 ],
 "metadata": {
  "kernelspec": {
   "display_name": "base",
   "language": "python",
   "name": "python3"
  },
  "language_info": {
   "codemirror_mode": {
    "name": "ipython",
    "version": 3
   },
   "file_extension": ".py",
   "mimetype": "text/x-python",
   "name": "python",
   "nbconvert_exporter": "python",
   "pygments_lexer": "ipython3",
   "version": "3.11.5"
  }
 },
 "nbformat": 4,
 "nbformat_minor": 2
}
