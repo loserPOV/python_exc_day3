{
 "cells": [
  {
   "cell_type": "markdown",
   "metadata": {},
   "source": [
    "NGC2``"
   ]
  },
  {
   "cell_type": "markdown",
   "metadata": {},
   "source": [
    "Challenge 1"
   ]
  },
  {
   "cell_type": "code",
   "execution_count": 3,
   "metadata": {},
   "outputs": [
    {
     "name": "stdout",
     "output_type": "stream",
     "text": [
      "3\n"
     ]
    }
   ],
   "source": [
    "def number_of_word(sentence):\n",
    "    splSentence = sentence.split()\n",
    "    hasil = len(splSentence)\n",
    "\n",
    "    return hasil\n",
    "\n",
    "print(number_of_word(\"fajar ibrah muhammad\"))"
   ]
  },
  {
   "cell_type": "markdown",
   "metadata": {},
   "source": [
    "Challenge 2"
   ]
  },
  {
   "cell_type": "code",
   "execution_count": 24,
   "metadata": {},
   "outputs": [
    {
     "name": "stdout",
     "output_type": "stream",
     "text": [
      "[5, 10, 15, 20]\n"
     ]
    }
   ],
   "source": [
    "def find_multiples(start_range, end_range, multiple):\n",
    "    num = []\n",
    "    for i in range(start_range, end_range+1):\n",
    "        if i % multiple == 0:\n",
    "            num.append(i)\n",
    "    \n",
    "    return num\n",
    "\n",
    "\n",
    "print(find_multiples(1,20,5))    "
   ]
  },
  {
   "cell_type": "markdown",
   "metadata": {},
   "source": []
  },
  {
   "cell_type": "markdown",
   "metadata": {},
   "source": [
    "Challenge 3"
   ]
  },
  {
   "cell_type": "code",
   "execution_count": 21,
   "metadata": {},
   "outputs": [
    {
     "name": "stdout",
     "output_type": "stream",
     "text": [
      "{'Adam': 2.5, 'Faiz': 4}\n",
      "{'Albert': 'A', 'Dwi': 'B', 'Syahdan': 'D', 'Veronica': 'B'}\n"
     ]
    }
   ],
   "source": [
    "def grade_converter(convert_to, **students):\n",
    "    dict = {}\n",
    "    if convert_to == \"gpa\":\n",
    "        for key, value in students.items():\n",
    "            if value <= 100 and value >=85:\n",
    "                value = 4\n",
    "            elif value <= 84.99 and value >=70:\n",
    "                value = 3\n",
    "            elif value <= 69.99 and value >=60:\n",
    "                value = 2.5\n",
    "            elif value <= 59.99 and value >=50:\n",
    "                value = 2\n",
    "            elif value <= 49.99 and value >=40:\n",
    "                value = 1.5\n",
    "            elif value <= 39.99 and value >=0:\n",
    "                value = 1\n",
    "            else:\n",
    "                print(\"score error\")\n",
    "\n",
    "            dict[key] = value\n",
    "        return dict\n",
    "\n",
    "    elif convert_to == \"letter_grade\":\n",
    "        for key, value in students.items():\n",
    "            if value <= 100 and value >=85:\n",
    "                value = 'A'\n",
    "            elif value <= 84.99 and value >=70:\n",
    "                value = 'B'\n",
    "            elif value <= 69.99 and value >=60:\n",
    "                value = 'C'\n",
    "            elif value <= 59.99 and value >=50:\n",
    "                value = 'D'\n",
    "            elif value <= 49.99 and value >=40:\n",
    "                value = 'E'\n",
    "            elif value <= 39.99 and value >=0:\n",
    "                value = 'F'\n",
    "            else:\n",
    "                print(\"score error\")\n",
    "\n",
    "            dict[key] = value\n",
    "        return dict\n",
    "        \n",
    "        \n",
    "\n",
    "print(grade_converter(\"gpa\", Adam=62, Faiz=91))\n",
    "print(grade_converter('letter_grade', Albert=90, Dwi=82, Syahdan=58, Veronica=84))\n",
    "\n"
   ]
  },
  {
   "cell_type": "markdown",
   "metadata": {},
   "source": [
    "Challenge 4"
   ]
  },
  {
   "cell_type": "code",
   "execution_count": 51,
   "metadata": {},
   "outputs": [
    {
     "name": "stdout",
     "output_type": "stream",
     "text": [
      "55\n"
     ]
    }
   ],
   "source": [
    "\n",
    "\n",
    "def fibonacci(n):\n",
    "\ta = 0\n",
    "\tb = 1\n",
    "\tif n == 0:\n",
    "\t\treturn 0\n",
    "\telif n == 1:\n",
    "\t\treturn 1\n",
    "\telse:\n",
    "\t\tfor i in range(2, n+1):\n",
    "\t\t\tc = a + b\n",
    "\t\t\ta = b\n",
    "\t\t\tb = c\n",
    "\t\treturn b\t\n",
    "\n",
    "\t\t#return Fibonacci(n-1)+Fibonacci(n-2)\n",
    "\n",
    "print(fibonacci(10))"
   ]
  },
  {
   "cell_type": "markdown",
   "metadata": {},
   "source": [
    "visualisasi rumus cari isi index fibonacci pakai for loops\n",
    "c1 = 1\n",
    "a1 = 1\n",
    "b1 = 1\n",
    "\n",
    "c2 = 2\n",
    "a2 = 1\n",
    "b2 = 2\n",
    "\n",
    "c3 = 3\n",
    "a3 = 2\n",
    "b3 = 3\n",
    "\n",
    "c4 = 5\n",
    "a4 = 3\n",
    "b4 = 5"
   ]
  }
 ],
 "metadata": {
  "kernelspec": {
   "display_name": "base",
   "language": "python",
   "name": "python3"
  },
  "language_info": {
   "codemirror_mode": {
    "name": "ipython",
    "version": 3
   },
   "file_extension": ".py",
   "mimetype": "text/x-python",
   "name": "python",
   "nbconvert_exporter": "python",
   "pygments_lexer": "ipython3",
   "version": "3.11.5"
  }
 },
 "nbformat": 4,
 "nbformat_minor": 2
}
